{
 "cells": [
  {
   "cell_type": "markdown",
   "metadata": {},
   "source": [
    "# Get the data\n",
    "\n",
    "Let's load our test and training data:\n"
   ]
  },
  {
   "cell_type": "code",
   "execution_count": 1,
   "metadata": {
    "collapsed": false
   },
   "outputs": [],
   "source": [
    "import svm\n",
    "import sklearn\n",
    "\n",
    "data_dir = \"/home/gz/workspace/results-babybel/\"\n",
    "config = [\"L3-SMT\"]\n",
    "uncore = \"shared\"\n",
    "tests = [\"PR700\"]\n",
    "X, Y, _, X_test, Y_test = svm.row_training_and_test_set(data_dir, config, tests, cutoff=1.15, uncore=uncore)"
   ]
  },
  {
   "cell_type": "markdown",
   "metadata": {},
   "source": [
    "Then we build a SVM classifier:"
   ]
  },
  {
   "cell_type": "code",
   "execution_count": 2,
   "metadata": {
    "collapsed": false
   },
   "outputs": [],
   "source": [
    "#clf = svm.CLASSIFIERS['poly2balanced']\n",
    "#min_max_scaler = sklearn.preprocessing.MinMaxScaler()\n",
    "#X_scaled = min_max_scaler.fit_transform(X)\n",
    "#X_test_scaled = min_max_scaler.transform(X_test)\n",
    "#model = clf.fit(X_scaled, Y)"
   ]
  },
  {
   "cell_type": "markdown",
   "metadata": {},
   "source": [
    "Now we need the weights of the decision function:"
   ]
  },
  {
   "cell_type": "code",
   "execution_count": 3,
   "metadata": {
    "collapsed": false
   },
   "outputs": [],
   "source": [
    "#print \"dual_coef\", len(model.dual_coef_)\n",
    "#print \"dual_coef[0]\", len(model.dual_coef_[0])"
   ]
  },
  {
   "cell_type": "markdown",
   "metadata": {},
   "source": [
    "The poly2 kernel translates the features in a different space so we don't get a 1:1 correspondence to our features, but we can use a linear kernel:"
   ]
  },
  {
   "cell_type": "code",
   "execution_count": 4,
   "metadata": {
    "collapsed": false
   },
   "outputs": [
    {
     "name": "stdout",
     "output_type": "stream",
     "text": [
      "#coefficients 2380\n",
      "Is 1st equals to max? True\n",
      "AVG.UNC_H_BT_OCCUPANCY.REMOTE 0.515895935102\n",
      "AVG.UNC_R3_RxR_OCCUPANCY.HOM 0.43737861278\n",
      "STD.UNC_M_WR_CAS_RANK1.BANK3 0.419150762644\n",
      "STD.UNC_M_WR_CAS_RANK5.BANK4 0.387334687481\n",
      "STD.UNC_R3_RxR_OCCUPANCY.NDR 0.377309605971\n",
      "STD.UNC_M_WR_CAS_RANK1.BANK0 0.347131712795\n",
      "AVG.L2_STORE_LOCK_RQSTS.HIT_M 0.342151596389\n",
      "STD.UNC_M_WR_CAS_RANK1.BANK7 0.333013627092\n",
      "AVG.UNC_H_TxR_AK_OCCUPANCY.SCHED0 0.328624892492\n",
      "AVG.FP_COMP_OPS_EXE.SSE_PACKED_DOUBLE 0.32462826788\n"
     ]
    }
   ],
   "source": [
    "import numpy as np\n",
    "\n",
    "clf = svm.CLASSIFIERS['linear']\n",
    "min_max_scaler = sklearn.preprocessing.MinMaxScaler()\n",
    "X_scaled = min_max_scaler.fit_transform(X)\n",
    "X_test_scaled = min_max_scaler.transform(X_test)\n",
    "model = clf.fit(X_scaled, Y)\n",
    "\n",
    "print(\"#coefficients\", len(model.coef_[0]))\n",
    "\n",
    "abs_coefs = np.abs(model.coef_[0])\n",
    "\n",
    "weight_idx_sorted = np.argsort( abs_coefs )\n",
    "weights = list(weight_idx_sorted)\n",
    "weights.reverse()\n",
    "\n",
    "print(\"Is 1st equals to max?\", abs_coefs[weights[0]] == max(abs_coefs))\n",
    "\n",
    "for idx in weights[:10]:\n",
    "    print(X_test.columns[idx], abs_coefs[idx])"
   ]
  },
  {
   "cell_type": "markdown",
   "metadata": {},
   "source": [
    "And we can compare this list with the ranking we get from pearson correlation:"
   ]
  },
  {
   "cell_type": "code",
   "execution_count": 5,
   "metadata": {
    "collapsed": false
   },
   "outputs": [
    {
     "name": "stdout",
     "output_type": "stream",
     "text": [
      "AVG.OFFCORE_REQUESTS_OUTSTANDING.DEMAND_DATA_RD_GE_6 0.12807788187\n",
      "AVG.ITLB_MISSES.STLB_HIT 0.123154371258\n",
      "STD.ITLB_MISSES.STLB_HIT 0.11361604453\n",
      "STD.OFFCORE_REQUESTS_OUTSTANDING.DEMAND_DATA_RD_GE_6 0.110620058147\n",
      "AVG.OFFCORE_REQUESTS_OUTSTANDING.DEMAND_DATA_RD 0.108981952328\n",
      "AVG.UNC_H_TxR_BL_CYCLES_FULL.SCHED0 0.105337678444\n",
      "AVG.UNC_M_BYP_CMDS.CAS 0.105196306226\n",
      "STD.MEM_LOAD_UOPS_LLC_MISS_RETIRED.LOCAL_DRAM 0.103947464821\n",
      "AVG.UNC_M_PRE_COUNT.BYP 0.103788294069\n",
      "AVG.UNC_M_BYP_CMDS.PRE 0.102291273264\n"
     ]
    }
   ],
   "source": [
    "import pandas as pd\n",
    "\n",
    "Y_values = Y.map(lambda x: 1 if x else 0)\n",
    "\n",
    "all_correlations = []\n",
    "X_scaled_df = pd.DataFrame(X_scaled, columns=X.columns)\n",
    "for col in X_scaled_df.columns:\n",
    "    corr = X_scaled_df[col].corr(Y_values)\n",
    "    if np.isnan(corr):\n",
    "        corr = 0.0\n",
    "    all_correlations.append(corr)\n",
    "\n",
    "abs_correlations = np.abs(all_correlations)\n",
    "correlations_idx_sorted = np.argsort(abs_correlations)\n",
    "\n",
    "correlations_idx = list(correlations_idx_sorted)\n",
    "correlations_idx.reverse()\n",
    "\n",
    "for idx in correlations_idx[:10]:\n",
    "    print(X_test.columns[idx], abs_correlations[idx])"
   ]
  },
  {
   "cell_type": "markdown",
   "metadata": {},
   "source": [
    "Finally, we plot the histogram that shows the distribution of the event with the hightest weight in SVM."
   ]
  },
  {
   "cell_type": "code",
   "execution_count": null,
   "metadata": {
    "collapsed": false,
    "scrolled": true
   },
   "outputs": [
    {
     "data": {
      "text/html": [
       "\n",
       "    <div class=\"bk-root\">\n",
       "        <a href=\"http://bokeh.pydata.org\" target=\"_blank\" class=\"bk-logo bk-logo-small bk-logo-notebook\"></a>\n",
       "        <span id=\"dcf3ae14-7dce-4384-aac3-221323e02116\">Loading BokehJS ...</span>\n",
       "    </div>"
      ]
     },
     "metadata": {},
     "output_type": "display_data"
    },
    {
     "data": {
      "application/javascript": [
       "\n",
       "(function(global) {\n",
       "  function now() {\n",
       "    return new Date();\n",
       "  }\n",
       "\n",
       "  var force = \"1\";\n",
       "\n",
       "  if (typeof (window._bokeh_onload_callbacks) === \"undefined\" || force !== \"\") {\n",
       "    window._bokeh_onload_callbacks = [];\n",
       "    window._bokeh_is_loading = undefined;\n",
       "  }\n",
       "\n",
       "\n",
       "  \n",
       "  if (typeof (window._bokeh_timeout) === \"undefined\" || force !== \"\") {\n",
       "    window._bokeh_timeout = Date.now() + 5000;\n",
       "    window._bokeh_failed_load = false;\n",
       "  }\n",
       "\n",
       "  var NB_LOAD_WARNING = {'data': {'text/html':\n",
       "     \"<div style='background-color: #fdd'>\\n\"+\n",
       "     \"<p>\\n\"+\n",
       "     \"BokehJS does not appear to have successfully loaded. If loading BokehJS from CDN, this \\n\"+\n",
       "     \"may be due to a slow or bad network connection. Possible fixes:\\n\"+\n",
       "     \"</p>\\n\"+\n",
       "     \"<ul>\\n\"+\n",
       "     \"<li>re-rerun `output_notebook()` to attempt to load from CDN again, or</li>\\n\"+\n",
       "     \"<li>use INLINE resources instead, as so:</li>\\n\"+\n",
       "     \"</ul>\\n\"+\n",
       "     \"<code>\\n\"+\n",
       "     \"from bokeh.resources import INLINE\\n\"+\n",
       "     \"output_notebook(resources=INLINE)\\n\"+\n",
       "     \"</code>\\n\"+\n",
       "     \"</div>\"}};\n",
       "\n",
       "  function display_loaded() {\n",
       "    if (window.Bokeh !== undefined) {\n",
       "      Bokeh.$(\"#dcf3ae14-7dce-4384-aac3-221323e02116\").text(\"BokehJS successfully loaded.\");\n",
       "    } else if (Date.now() < window._bokeh_timeout) {\n",
       "      setTimeout(display_loaded, 100)\n",
       "    }\n",
       "  }\n",
       "\n",
       "  function run_callbacks() {\n",
       "    window._bokeh_onload_callbacks.forEach(function(callback) { callback() });\n",
       "    delete window._bokeh_onload_callbacks\n",
       "    console.info(\"Bokeh: all callbacks have finished\");\n",
       "  }\n",
       "\n",
       "  function load_libs(js_urls, callback) {\n",
       "    window._bokeh_onload_callbacks.push(callback);\n",
       "    if (window._bokeh_is_loading > 0) {\n",
       "      console.log(\"Bokeh: BokehJS is being loaded, scheduling callback at\", now());\n",
       "      return null;\n",
       "    }\n",
       "    if (js_urls == null || js_urls.length === 0) {\n",
       "      run_callbacks();\n",
       "      return null;\n",
       "    }\n",
       "    console.log(\"Bokeh: BokehJS not loaded, scheduling load and callback at\", now());\n",
       "    window._bokeh_is_loading = js_urls.length;\n",
       "    for (var i = 0; i < js_urls.length; i++) {\n",
       "      var url = js_urls[i];\n",
       "      var s = document.createElement('script');\n",
       "      s.src = url;\n",
       "      s.async = false;\n",
       "      s.onreadystatechange = s.onload = function() {\n",
       "        window._bokeh_is_loading--;\n",
       "        if (window._bokeh_is_loading === 0) {\n",
       "          console.log(\"Bokeh: all BokehJS libraries loaded\");\n",
       "          run_callbacks()\n",
       "        }\n",
       "      };\n",
       "      s.onerror = function() {\n",
       "        console.warn(\"failed to load library \" + url);\n",
       "      };\n",
       "      console.log(\"Bokeh: injecting script tag for BokehJS library: \", url);\n",
       "      document.getElementsByTagName(\"head\")[0].appendChild(s);\n",
       "    }\n",
       "  };var element = document.getElementById(\"dcf3ae14-7dce-4384-aac3-221323e02116\");\n",
       "  if (element == null) {\n",
       "    console.log(\"Bokeh: ERROR: autoload.js configured with elementid 'dcf3ae14-7dce-4384-aac3-221323e02116' but no matching script tag was found. \")\n",
       "    return false;\n",
       "  }\n",
       "\n",
       "  var js_urls = ['https://cdn.pydata.org/bokeh/release/bokeh-0.12.3.min.js', 'https://cdn.pydata.org/bokeh/release/bokeh-widgets-0.12.3.min.js'];\n",
       "\n",
       "  var inline_js = [\n",
       "    function(Bokeh) {\n",
       "      Bokeh.set_log_level(\"info\");\n",
       "    },\n",
       "    \n",
       "    function(Bokeh) {\n",
       "      \n",
       "      Bokeh.$(\"#dcf3ae14-7dce-4384-aac3-221323e02116\").text(\"BokehJS is loading...\");\n",
       "    },\n",
       "    function(Bokeh) {\n",
       "      console.log(\"Bokeh: injecting CSS: https://cdn.pydata.org/bokeh/release/bokeh-0.12.3.min.css\");\n",
       "      Bokeh.embed.inject_css(\"https://cdn.pydata.org/bokeh/release/bokeh-0.12.3.min.css\");\n",
       "      console.log(\"Bokeh: injecting CSS: https://cdn.pydata.org/bokeh/release/bokeh-widgets-0.12.3.min.css\");\n",
       "      Bokeh.embed.inject_css(\"https://cdn.pydata.org/bokeh/release/bokeh-widgets-0.12.3.min.css\");\n",
       "    }\n",
       "  ];\n",
       "\n",
       "  function run_inline_js() {\n",
       "    \n",
       "    if ((window.Bokeh !== undefined) || (force === \"1\")) {\n",
       "      for (var i = 0; i < inline_js.length; i++) {\n",
       "        inline_js[i](window.Bokeh);\n",
       "      }if (force === \"1\") {\n",
       "        display_loaded();\n",
       "      }} else if (Date.now() < window._bokeh_timeout) {\n",
       "      setTimeout(run_inline_js, 100);\n",
       "    } else if (!window._bokeh_failed_load) {\n",
       "      console.log(\"Bokeh: BokehJS failed to load within specified timeout.\");\n",
       "      window._bokeh_failed_load = true;\n",
       "    } else if (!force) {\n",
       "      var cell = $(\"#dcf3ae14-7dce-4384-aac3-221323e02116\").parents('.cell').data().cell;\n",
       "      cell.output_area.append_execute_result(NB_LOAD_WARNING)\n",
       "    }\n",
       "\n",
       "  }\n",
       "\n",
       "  if (window._bokeh_is_loading === 0) {\n",
       "    console.log(\"Bokeh: BokehJS loaded, going straight to plotting\");\n",
       "    run_inline_js();\n",
       "  } else {\n",
       "    load_libs(js_urls, function() {\n",
       "      console.log(\"Bokeh: BokehJS plotting callback run at\", now());\n",
       "      run_inline_js();\n",
       "    });\n",
       "  }\n",
       "}(this));"
      ]
     },
     "metadata": {},
     "output_type": "display_data"
    },
    {
     "name": "stdout",
     "output_type": "stream",
     "text": [
      "AVG.UNC_H_BT_OCCUPANCY.REMOTE\n"
     ]
    }
   ],
   "source": [
    "from bokeh.plotting import show\n",
    "from bokeh.charts import Histogram\n",
    "from bokeh.layouts import column, row\n",
    "from bokeh.models import Range1d\n",
    "\n",
    "from bokeh.io import output_notebook\n",
    "output_notebook()\n",
    "\n",
    "# Training data\n",
    "top_event = X_scaled_df.columns[weights[0]]\n",
    "print(top_event)\n",
    "Y_labels = Y.map(lambda x: \"Training Y\" if x else \"Training N\")\n",
    "Y_labels = Y_labels.reset_index()\n",
    "\n",
    "distribution = pd.DataFrame()\n",
    "distribution['value'] = X_scaled_df[top_event]\n",
    "distribution = distribution.reset_index()\n",
    "del distribution['index']\n",
    "distribution['class'] = Y_labels[0]\n",
    "\n",
    "# Testing data\n",
    "Y_test_labels = Y_test.map(lambda x: \"Test Y\" if x else \"Test N\")\n",
    "Y_test_labels = Y_test_labels.reset_index()\n",
    "\n",
    "X_scaled_test_df = pd.DataFrame(X_test_scaled, columns=X_test.columns)\n",
    "distribution_test = pd.DataFrame()\n",
    "distribution_test['value'] = X_scaled_test_df[top_event]\n",
    "distribution_test = distribution_test.reset_index()\n",
    "del distribution_test['index']\n",
    "distribution_test['class'] = Y_test_labels[0]\n",
    "\n",
    "distribution = pd.concat([distribution, distribution_test])\n",
    "\n",
    "hist_training = Histogram(distribution, values='value', color='class', bins=20, title=\"Histogram Training\", legend='top_right', label='class')\n",
    "\n",
    "show(hist_training)\n"
   ]
  }
 ],
 "metadata": {
  "kernelspec": {
   "display_name": "Python 3",
   "language": "python",
   "name": "python3"
  },
  "language_info": {
   "codemirror_mode": {
    "name": "ipython",
    "version": 3
   },
   "file_extension": ".py",
   "mimetype": "text/x-python",
   "name": "python",
   "nbconvert_exporter": "python",
   "pygments_lexer": "ipython3",
   "version": "3.5.2"
  }
 },
 "nbformat": 4,
 "nbformat_minor": 1
}
